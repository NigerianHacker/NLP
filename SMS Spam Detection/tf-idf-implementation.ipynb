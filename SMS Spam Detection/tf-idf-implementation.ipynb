{
 "cells": [
  {
   "cell_type": "code",
   "execution_count": 4,
   "metadata": {
    "_cell_guid": "b1076dfc-b9ad-4769-8c92-a6c4dae69d19",
    "_uuid": "8f2839f25d086af736a60e9eeb907d3b93b6e0e5"
   },
   "outputs": [],
   "source": [
    "# This Python 3 environment comes with many helpful analytics libraries installed\n",
    "# It is defined by the kaggle/python Docker image: https://github.com/kaggle/docker-python\n",
    "# For example, here's several helpful packages to load\n",
    "\n",
    "import numpy as np # linear algebra\n",
    "import pandas as pd # data processing, CSV file I/O (e.g. pd.read_csv)\n",
    "\n",
    "# Input data files are available in the read-only \"../input/\" directory\n",
    "# For example, running this (by clicking run or pressing Shift+Enter) will list all files under the input directory\n",
    "\n",
    "import os\n",
    "for dirname, _, filenames in os.walk('/kaggle/input'):\n",
    "    for filename in filenames:\n",
    "        print(os.path.join(dirname, filename))\n",
    "\n",
    "# You can write up to 20GB to the current directory (/kaggle/working/) that gets preserved as output when you create a version using \"Save & Run All\" \n",
    "# You can also write temporary files to /kaggle/temp/, but they won't be saved outside of the current session"
   ]
  },
  {
   "cell_type": "code",
   "execution_count": 5,
   "metadata": {
    "_cell_guid": "79c7e3d0-c299-4dcb-8224-4455121ee9b0",
    "_uuid": "d629ff2d2480ee46fbb7e2d37f6b5fab8052498a"
   },
   "outputs": [
    {
     "data": {
      "text/html": [
       "<div>\n",
       "<style scoped>\n",
       "    .dataframe tbody tr th:only-of-type {\n",
       "        vertical-align: middle;\n",
       "    }\n",
       "\n",
       "    .dataframe tbody tr th {\n",
       "        vertical-align: top;\n",
       "    }\n",
       "\n",
       "    .dataframe thead th {\n",
       "        text-align: right;\n",
       "    }\n",
       "</style>\n",
       "<table border=\"1\" class=\"dataframe\">\n",
       "  <thead>\n",
       "    <tr style=\"text-align: right;\">\n",
       "      <th></th>\n",
       "      <th>label</th>\n",
       "      <th>text</th>\n",
       "    </tr>\n",
       "  </thead>\n",
       "  <tbody>\n",
       "    <tr>\n",
       "      <th>0</th>\n",
       "      <td>ham</td>\n",
       "      <td>Go until jurong point, crazy.. Available only ...</td>\n",
       "    </tr>\n",
       "    <tr>\n",
       "      <th>1</th>\n",
       "      <td>ham</td>\n",
       "      <td>Ok lar... Joking wif u oni...</td>\n",
       "    </tr>\n",
       "    <tr>\n",
       "      <th>2</th>\n",
       "      <td>spam</td>\n",
       "      <td>Free entry in 2 a wkly comp to win FA Cup fina...</td>\n",
       "    </tr>\n",
       "    <tr>\n",
       "      <th>3</th>\n",
       "      <td>ham</td>\n",
       "      <td>U dun say so early hor... U c already then say...</td>\n",
       "    </tr>\n",
       "    <tr>\n",
       "      <th>4</th>\n",
       "      <td>ham</td>\n",
       "      <td>Nah I don't think he goes to usf, he lives aro...</td>\n",
       "    </tr>\n",
       "    <tr>\n",
       "      <th>...</th>\n",
       "      <td>...</td>\n",
       "      <td>...</td>\n",
       "    </tr>\n",
       "    <tr>\n",
       "      <th>5567</th>\n",
       "      <td>spam</td>\n",
       "      <td>This is the 2nd time we have tried 2 contact u...</td>\n",
       "    </tr>\n",
       "    <tr>\n",
       "      <th>5568</th>\n",
       "      <td>ham</td>\n",
       "      <td>Will ü b going to esplanade fr home?</td>\n",
       "    </tr>\n",
       "    <tr>\n",
       "      <th>5569</th>\n",
       "      <td>ham</td>\n",
       "      <td>Pity, * was in mood for that. So...any other s...</td>\n",
       "    </tr>\n",
       "    <tr>\n",
       "      <th>5570</th>\n",
       "      <td>ham</td>\n",
       "      <td>The guy did some bitching but I acted like i'd...</td>\n",
       "    </tr>\n",
       "    <tr>\n",
       "      <th>5571</th>\n",
       "      <td>ham</td>\n",
       "      <td>Rofl. Its true to its name</td>\n",
       "    </tr>\n",
       "  </tbody>\n",
       "</table>\n",
       "<p>5572 rows × 2 columns</p>\n",
       "</div>"
      ],
      "text/plain": [
       "     label                                               text\n",
       "0      ham  Go until jurong point, crazy.. Available only ...\n",
       "1      ham                      Ok lar... Joking wif u oni...\n",
       "2     spam  Free entry in 2 a wkly comp to win FA Cup fina...\n",
       "3      ham  U dun say so early hor... U c already then say...\n",
       "4      ham  Nah I don't think he goes to usf, he lives aro...\n",
       "...    ...                                                ...\n",
       "5567  spam  This is the 2nd time we have tried 2 contact u...\n",
       "5568   ham               Will ü b going to esplanade fr home?\n",
       "5569   ham  Pity, * was in mood for that. So...any other s...\n",
       "5570   ham  The guy did some bitching but I acted like i'd...\n",
       "5571   ham                         Rofl. Its true to its name\n",
       "\n",
       "[5572 rows x 2 columns]"
      ]
     },
     "execution_count": 5,
     "metadata": {},
     "output_type": "execute_result"
    }
   ],
   "source": [
    "## SkLearn# Collection of string documents\n",
    "\n",
    "# # corpus = [\n",
    "#      'this is the first document',\n",
    "#      'this document is the second document',\n",
    "#      'and this is the third one',\n",
    "#      'is this the first document',\n",
    "# # ]\n",
    "data = pd.read_csv('sms+spam+collection/SMSSpamCollection', sep='\\t', header=None, names=['label', 'text'])\n",
    "data "
   ]
  },
  {
   "cell_type": "code",
   "execution_count": 4,
   "metadata": {
    "execution": {
     "iopub.execute_input": "2024-05-16T12:20:39.027809Z",
     "iopub.status.busy": "2024-05-16T12:20:39.026967Z",
     "iopub.status.idle": "2024-05-16T12:20:40.074902Z",
     "shell.execute_reply": "2024-05-16T12:20:40.073667Z",
     "shell.execute_reply.started": "2024-05-16T12:20:39.027757Z"
    }
   },
   "outputs": [],
   "source": [
    "from sklearn.feature_extraction.text import TfidfVectorizer\n",
    "vectorizer = TfidfVectorizer()\n",
    "vectorizer.fit(corpus)\n",
    "skl_output = vectorizer.transform(corpus)"
   ]
  },
  {
   "cell_type": "code",
   "execution_count": 5,
   "metadata": {
    "execution": {
     "iopub.execute_input": "2024-05-16T12:20:40.077871Z",
     "iopub.status.busy": "2024-05-16T12:20:40.077374Z",
     "iopub.status.idle": "2024-05-16T12:20:40.084451Z",
     "shell.execute_reply": "2024-05-16T12:20:40.083092Z",
     "shell.execute_reply.started": "2024-05-16T12:20:40.077820Z"
    }
   },
   "outputs": [
    {
     "name": "stdout",
     "output_type": "stream",
     "text": [
      "['and', 'document', 'first', 'is', 'one', 'second', 'the', 'third', 'this']\n"
     ]
    }
   ],
   "source": [
    "# sklearn feature names, they are sorted in alphabetic order by default.\n",
    "\n",
    "print(vectorizer.get_feature_names())"
   ]
  },
  {
   "cell_type": "code",
   "execution_count": 6,
   "metadata": {
    "execution": {
     "iopub.execute_input": "2024-05-16T12:20:40.086874Z",
     "iopub.status.busy": "2024-05-16T12:20:40.086368Z",
     "iopub.status.idle": "2024-05-16T12:20:40.095254Z",
     "shell.execute_reply": "2024-05-16T12:20:40.094259Z",
     "shell.execute_reply.started": "2024-05-16T12:20:40.086824Z"
    }
   },
   "outputs": [
    {
     "name": "stdout",
     "output_type": "stream",
     "text": [
      "[1.91629073 1.22314355 1.51082562 1.         1.91629073 1.91629073\n",
      " 1.         1.91629073 1.        ]\n"
     ]
    }
   ],
   "source": [
    "# Here we will print the sklearn tfidf vectorizer idf values after applying the fit method\n",
    "# After using the fit function on the corpus the vocab has 9 words in it, and each has its idf value.\n",
    "\n",
    "print(vectorizer.idf_)"
   ]
  },
  {
   "cell_type": "code",
   "execution_count": 7,
   "metadata": {
    "execution": {
     "iopub.execute_input": "2024-05-16T12:20:40.097491Z",
     "iopub.status.busy": "2024-05-16T12:20:40.096956Z",
     "iopub.status.idle": "2024-05-16T12:20:40.109565Z",
     "shell.execute_reply": "2024-05-16T12:20:40.108552Z",
     "shell.execute_reply.started": "2024-05-16T12:20:40.097452Z"
    }
   },
   "outputs": [
    {
     "data": {
      "text/plain": [
       "(4, 9)"
      ]
     },
     "execution_count": 7,
     "metadata": {},
     "output_type": "execute_result"
    }
   ],
   "source": [
    "# shape of sklearn tfidf vectorizer output after applying transform method.\n",
    "\n",
    "skl_output.shape"
   ]
  },
  {
   "cell_type": "code",
   "execution_count": 8,
   "metadata": {
    "execution": {
     "iopub.execute_input": "2024-05-16T12:20:40.113407Z",
     "iopub.status.busy": "2024-05-16T12:20:40.112867Z",
     "iopub.status.idle": "2024-05-16T12:20:40.123115Z",
     "shell.execute_reply": "2024-05-16T12:20:40.122281Z",
     "shell.execute_reply.started": "2024-05-16T12:20:40.113365Z"
    }
   },
   "outputs": [
    {
     "name": "stdout",
     "output_type": "stream",
     "text": [
      "  (0, 8)\t0.38408524091481483\n",
      "  (0, 6)\t0.38408524091481483\n",
      "  (0, 3)\t0.38408524091481483\n",
      "  (0, 2)\t0.5802858236844359\n",
      "  (0, 1)\t0.46979138557992045\n"
     ]
    }
   ],
   "source": [
    "# sklearn tfidf values for first line of the above corpus.\n",
    "# Here the output is a sparse matrix\n",
    "\n",
    "print(skl_output[0]"
   ]
  },
  {
   "cell_type": "code",
   "execution_count": 9,
   "metadata": {
    "execution": {
     "iopub.execute_input": "2024-05-16T12:20:40.124992Z",
     "iopub.status.busy": "2024-05-16T12:20:40.124501Z",
     "iopub.status.idle": "2024-05-16T12:20:40.136009Z",
     "shell.execute_reply": "2024-05-16T12:20:40.135186Z",
     "shell.execute_reply.started": "2024-05-16T12:20:40.124956Z"
    }
   },
   "outputs": [
    {
     "name": "stdout",
     "output_type": "stream",
     "text": [
      "[[0.         0.46979139 0.58028582 0.38408524 0.         0.\n",
      "  0.38408524 0.         0.38408524]]\n"
     ]
    }
   ],
   "source": [
    "# sklearn tfidf values for first line of the above corpus.\n",
    "# To understand the output better, here we are converting the sparse output matrix to dense matrix and printing it.\n",
    "# Notice that this output is normalized using L2 normalization. sklearn does this by default.\n",
    "\n",
    "print(skl_output[0].toarray())"
   ]
  },
  {
   "cell_type": "code",
   "execution_count": 10,
   "metadata": {
    "execution": {
     "iopub.execute_input": "2024-05-16T12:20:40.137785Z",
     "iopub.status.busy": "2024-05-16T12:20:40.137251Z",
     "iopub.status.idle": "2024-05-16T12:20:40.146376Z",
     "shell.execute_reply": "2024-05-16T12:20:40.145206Z",
     "shell.execute_reply.started": "2024-05-16T12:20:40.137744Z"
    }
   },
   "outputs": [],
   "source": [
    "# Write your code here.\n",
    "# Make sure its well documented and readble with appropriate comments.\n",
    "# Compare your results with the above sklearn tfidf vectorizer\n",
    "# You are not supposed to use any other library apart from the ones given below\n",
    "\n",
    "from collections import Counter\n",
    "from tqdm import tqdm\n",
    "from scipy.sparse import csr_matrix\n",
    "import math\n",
    "import operator\n",
    "from sklearn.preprocessing import normalize\n",
    "import numpy"
   ]
  },
  {
   "cell_type": "markdown",
   "metadata": {},
   "source": [
    "You should compare the results of your own implementation of TFIDF vectorizer with that of sklearns implemenation TFIDF vectorizer.\n",
    "\n",
    "Sklearn does few more tweaks in the implementation of its version of TFIDF vectorizer, so to replicate the exact results you would need to add following things to your custom implementation of tfidf vectorizer:\n",
    "Sklearn has its vocabulary generated from idf sroted in alphabetical order\n",
    "Sklearn formula of idf is different from the standard textbook formula. Here the constant \"1\" is added to the numerator and denominator of the idf as if an extra document was seen containing every term in the collection exactly once, which prevents zero divisions.  IDF(t)=1+loge1 + Total number of documents in collection1+Number of documents with term t in it. \n",
    "Sklearn applies L2-normalization on its output matrix.\n",
    "The final output of sklearn tfidf vectorizer is a sparse matrix.\n",
    "\n",
    "Steps to approach this task:\n",
    "You would have to write both fit and transform methods for your custom implementation of tfidf vectorizer.\n",
    "Print out the alphabetically sorted voacb after you fit your data and check if its the same as that of the feature names from sklearn tfidf vectorizer.\n",
    "Print out the idf values from your implementation and check if its the same as that of sklearns tfidf vectorizer idf values.\n",
    "Once you get your voacb and idf values to be same as that of sklearns implementation of tfidf vectorizer, proceed to the below steps.\n",
    "Make sure the output of your implementation is a sparse matrix. Before generating the final output, you need to normalize your sparse matrix using L2 normalization. You can refer to this link https://scikit-learn.org/stable/modules/generated/sklearn.preprocessing.normalize.html\n",
    "After completing the above steps, print the output of your custom implementation and compare it with sklearns implementation of tfidf vectorizer.\n",
    "To check the output of a single document in your collection of documents, you can convert the sparse matrix related only to that document into dense matrix and print it.\n",
    "\n",
    "Note-1: All the necessary outputs of sklearns tfidf vectorizer have been provided as reference in this notebook, you can compare your outputs as mentioned in the above steps, with these outputs.\n",
    "Note-2: The output of your custom implementation and that of sklearns implementation would match only with the collection of document strings provided to you as reference in this notebook. It would not match for strings that contain capital letters or punctuations, etc, because sklearn version of tfidf vectorizer deals with such strings in a different way. To know further details about how sklearn tfidf vectorizer works with such string, you can always refer to its official documentation.\n",
    "Note-3: During this task, it would be helpful for you to debug the code you write with print statements wherever necessary. But when you are finally submitting the assignment, make sure your code is readable and try not to print things which are not part of this task."
   ]
  },
  {
   "cell_type": "code",
   "execution_count": 21,
   "metadata": {
    "execution": {
     "iopub.execute_input": "2024-05-16T12:29:15.566199Z",
     "iopub.status.busy": "2024-05-16T12:29:15.565806Z",
     "iopub.status.idle": "2024-05-16T12:29:15.573865Z",
     "shell.execute_reply": "2024-05-16T12:29:15.572491Z",
     "shell.execute_reply.started": "2024-05-16T12:29:15.566166Z"
    }
   },
   "outputs": [
    {
     "name": "stdout",
     "output_type": "stream",
     "text": [
      "[['this', 'is', 'the', 'first', 'document'], ['this', 'document', 'is', 'the', 'second', 'document'], ['and', 'this', 'is', 'the', 'third', 'one'], ['is', 'this', 'the', 'first', 'document']]\n"
     ]
    }
   ],
   "source": [
    "\n",
    "#We will start by breaking our corpus into individual words\n",
    "def split_list(sentence):\n",
    "        result = []\n",
    "    #Split each sentence in the list, and append to result list\n",
    "        for s in sentence:\n",
    "            result.append(s.split())\n",
    "        return result\n",
    "            \n",
    "result = split_list(corpus)\n",
    "print(result)"
   ]
  },
  {
   "cell_type": "code",
   "execution_count": 17,
   "metadata": {
    "execution": {
     "iopub.execute_input": "2024-05-16T12:27:19.531853Z",
     "iopub.status.busy": "2024-05-16T12:27:19.531371Z",
     "iopub.status.idle": "2024-05-16T12:27:19.545005Z",
     "shell.execute_reply": "2024-05-16T12:27:19.543864Z",
     "shell.execute_reply.started": "2024-05-16T12:27:19.531811Z"
    }
   },
   "outputs": [
    {
     "name": "stdout",
     "output_type": "stream",
     "text": [
      "['this', 'is', 'the', 'first', 'document', 'this', 'document', 'is', 'the', 'second', 'document', 'and', 'this', 'is', 'the', 'third', 'one', 'is', 'this', 'the', 'first', 'document']\n",
      "==================================================\n",
      "{'second', 'and', 'one', 'the', 'first', 'this', 'document', 'is', 'third'}\n"
     ]
    },
    {
     "data": {
      "text/plain": [
       "[['this', 'is', 'the', 'first', 'document'],\n",
       " ['this', 'document', 'is', 'the', 'second', 'document'],\n",
       " ['and', 'this', 'is', 'the', 'third', 'one'],\n",
       " ['is', 'this', 'the', 'first', 'document']]"
      ]
     },
     "execution_count": 17,
     "metadata": {},
     "output_type": "execute_result"
    }
   ],
   "source": [
    "#we will add this obtained list of words to a set so that we have only unique words\n",
    "#reference: https://stackoverflow.com/questions/30083947/how-to-convert-list-of-lists-to-a-set-in-python-so-i-can-compare-to-other-sets\n",
    "outer_list = [] \n",
    "def lists_to_list(nested_lists): \n",
    "    for el in nested_lists:\n",
    "        if type(el) == list: \n",
    "            lists_to_list(el) \n",
    "        else: \n",
    "            outer_list.append(el)\n",
    "    return outer_list\n",
    "outer_all_list = lists_to_list(result)\n",
    "print(outer_all_list)\n",
    "outer_list = set(outer_all_list)\n",
    "print(\"=\"*50)\n",
    "print(outer_list)\n",
    "result"
   ]
  },
  {
   "cell_type": "code",
   "execution_count": 13,
   "metadata": {
    "execution": {
     "iopub.execute_input": "2024-05-16T12:20:40.173095Z",
     "iopub.status.busy": "2024-05-16T12:20:40.172732Z",
     "iopub.status.idle": "2024-05-16T12:20:40.181012Z",
     "shell.execute_reply": "2024-05-16T12:20:40.179840Z",
     "shell.execute_reply.started": "2024-05-16T12:20:40.173062Z"
    }
   },
   "outputs": [
    {
     "name": "stdout",
     "output_type": "stream",
     "text": [
      "{'second', 'and', 'one', 'the', 'first', 'this', 'document', 'is', 'third'}\n",
      "['and', 'document', 'first', 'is', 'one', 'second', 'the', 'third', 'this']\n"
     ]
    }
   ],
   "source": [
    "#sort the list alphabetically\n",
    "print(outer_list)\n",
    "sorted_list = sorted(outer_list)\n",
    "print(sorted_list)"
   ]
  },
  {
   "cell_type": "code",
   "execution_count": 14,
   "metadata": {
    "execution": {
     "iopub.execute_input": "2024-05-16T12:20:40.183551Z",
     "iopub.status.busy": "2024-05-16T12:20:40.182791Z",
     "iopub.status.idle": "2024-05-16T12:20:40.193367Z",
     "shell.execute_reply": "2024-05-16T12:20:40.192122Z",
     "shell.execute_reply.started": "2024-05-16T12:20:40.183494Z"
    }
   },
   "outputs": [
    {
     "name": "stdout",
     "output_type": "stream",
     "text": [
      "{'and': 1, 'document': 4, 'first': 2, 'is': 4, 'one': 1, 'second': 1, 'the': 4, 'third': 1, 'this': 4}\n"
     ]
    }
   ],
   "source": [
    "#a dicttionary for storing all words and their occurences in the corpus\n",
    "numofwords = dict.fromkeys(sorted_list, 0)\n",
    "\n",
    "for word in outer_all_list:\n",
    "    numofwords[word] += 1 \n",
    "    \n",
    "print(numofwords)"
   ]
  },
  {
   "cell_type": "code",
   "execution_count": null,
   "metadata": {},
   "outputs": [],
   "source": [
    "#computing the term frequency of words\n",
    "def compute_tf(numofwords,outer_all_list):\n",
    "    term_freq = {}\n",
    "    len_of_list = len(outer_all_list)\n",
    "    for word,count in numofwords.items():\n",
    "        term_freq[word] = count/len_of_list\n",
    "    return term_freq\n",
    "term_freq = compute_tf(numofwords,outer_all_list)\n",
    "print(term_freq)\n",
    "outer_all_list"
   ]
  },
  {
   "cell_type": "code",
   "execution_count": 40,
   "metadata": {
    "execution": {
     "iopub.execute_input": "2024-05-16T13:18:22.967320Z",
     "iopub.status.busy": "2024-05-16T13:18:22.966864Z",
     "iopub.status.idle": "2024-05-16T13:18:22.979416Z",
     "shell.execute_reply": "2024-05-16T13:18:22.978486Z",
     "shell.execute_reply.started": "2024-05-16T13:18:22.967280Z"
    }
   },
   "outputs": [
    {
     "name": "stdout",
     "output_type": "stream",
     "text": [
      "{'and': 1, 'document': 3, 'first': 2, 'is': 4, 'one': 1, 'second': 1, 'the': 4, 'third': 1, 'this': 4}\n"
     ]
    },
    {
     "data": {
      "text/plain": [
       "[['this', 'is', 'the', 'first', 'document'],\n",
       " ['this', 'document', 'is', 'the', 'second', 'document'],\n",
       " ['and', 'this', 'is', 'the', 'third', 'one'],\n",
       " ['is', 'this', 'the', 'first', 'document']]"
      ]
     },
     "execution_count": 40,
     "metadata": {},
     "output_type": "execute_result"
    }
   ],
   "source": [
    "#computing count of words in each document\n",
    "N = len(corpus)\n",
    "idf_dict = dict.fromkeys(sorted_list,0)\n",
    "for word,count in numofwords.items():\n",
    "    for i in range(len(corpus)):\n",
    "        for x in result[i]:\n",
    "               # print (x)\n",
    "                if x == word:\n",
    "                    idf_dict[word] += 1\n",
    "                    break\n",
    "print(idf_dict)\n",
    "result"
   ]
  },
  {
   "cell_type": "code",
   "execution_count": 42,
   "metadata": {
    "execution": {
     "iopub.execute_input": "2024-05-16T14:10:32.546096Z",
     "iopub.status.busy": "2024-05-16T14:10:32.545665Z",
     "iopub.status.idle": "2024-05-16T14:10:32.556561Z",
     "shell.execute_reply": "2024-05-16T14:10:32.555429Z",
     "shell.execute_reply.started": "2024-05-16T14:10:32.546064Z"
    }
   },
   "outputs": [
    {
     "name": "stdout",
     "output_type": "stream",
     "text": [
      "{'and': 1.916290731874155, 'document': 1.2231435513142097, 'first': 1.5108256237659907, 'is': 1.0, 'one': 1.916290731874155, 'second': 1.916290731874155, 'the': 1.0, 'third': 1.916290731874155, 'this': 1.0}\n"
     ]
    },
    {
     "data": {
      "text/plain": [
       "4"
      ]
     },
     "execution_count": 42,
     "metadata": {},
     "output_type": "execute_result"
    }
   ],
   "source": [
    "#computing IDF\n",
    "idf_final = dict.fromkeys(sorted_list,0)\n",
    "for word,val in idf_dict.items():\n",
    "    idf_final[word] = 1 + (math.log((N+1)/(val+1))) \n",
    "print(idf_final)\n",
    "sorted_list"
   ]
  },
  {
   "cell_type": "code",
   "execution_count": 39,
   "metadata": {
    "execution": {
     "iopub.execute_input": "2024-05-16T12:49:34.519798Z",
     "iopub.status.busy": "2024-05-16T12:49:34.519375Z",
     "iopub.status.idle": "2024-05-16T12:49:34.527533Z",
     "shell.execute_reply": "2024-05-16T12:49:34.526332Z",
     "shell.execute_reply.started": "2024-05-16T12:49:34.519759Z"
    }
   },
   "outputs": [
    {
     "name": "stdout",
     "output_type": "stream",
     "text": [
      "{'and': 0.08710412417609796, 'document': 0.2223897366025836, 'first': 0.13734778397872643, 'is': 0.18181818181818182, 'one': 0.08710412417609796, 'second': 0.08710412417609796, 'the': 0.18181818181818182, 'third': 0.08710412417609796, 'this': 0.18181818181818182}\n"
     ]
    }
   ],
   "source": [
    "#compute TF-IDF\n",
    "tfidf = dict.fromkeys(sorted_list,0)\n",
    "for word,val in idf_final.items():\n",
    "    tfidf[word] = val * term_freq[word]\n",
    "print(tfidf)"
   ]
  },
  {
   "cell_type": "code",
   "execution_count": 20,
   "metadata": {
    "execution": {
     "iopub.execute_input": "2024-05-16T09:37:02.680394Z",
     "iopub.status.busy": "2024-05-16T09:37:02.680001Z",
     "iopub.status.idle": "2024-05-16T09:37:02.686285Z",
     "shell.execute_reply": "2024-05-16T09:37:02.685394Z",
     "shell.execute_reply.started": "2024-05-16T09:37:02.680359Z"
    }
   },
   "outputs": [
    {
     "data": {
      "text/plain": [
       "dict"
      ]
     },
     "execution_count": 20,
     "metadata": {},
     "output_type": "execute_result"
    }
   ],
   "source": [
    "type(tfidf)"
   ]
  },
  {
   "cell_type": "code",
   "execution_count": null,
   "metadata": {},
   "outputs": [],
   "source": []
  }
 ],
 "metadata": {
  "kaggle": {
   "accelerator": "none",
   "dataSources": [],
   "dockerImageVersionId": 30038,
   "isGpuEnabled": false,
   "isInternetEnabled": false,
   "language": "python",
   "sourceType": "notebook"
  },
  "kernelspec": {
   "display_name": "Python 3 (ipykernel)",
   "language": "python",
   "name": "python3"
  },
  "language_info": {
   "codemirror_mode": {
    "name": "ipython",
    "version": 3
   },
   "file_extension": ".py",
   "mimetype": "text/x-python",
   "name": "python",
   "nbconvert_exporter": "python",
   "pygments_lexer": "ipython3",
   "version": "3.9.18"
  }
 },
 "nbformat": 4,
 "nbformat_minor": 4
}
